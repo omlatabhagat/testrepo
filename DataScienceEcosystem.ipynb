{
 "cells": [
  {
   "cell_type": "markdown",
   "id": "8196ca4f-7f83-48c3-aaf5-9b9040c58ed2",
   "metadata": {},
   "source": [
    "# Data Science Tools and Ecosystem"
   ]
  },
  {
   "cell_type": "markdown",
   "id": "65f6b571-715a-4923-8437-e74230180493",
   "metadata": {},
   "source": [
    "In this notebook, Data Science Tools and Ecosystem are summarized."
   ]
  },
  {
   "cell_type": "markdown",
   "id": "d945a1de-7aa4-4ffe-86ea-e3dca8867764",
   "metadata": {},
   "source": [
    "**Objectives**\n",
    "- list popular languages for Data Science\n",
    "- list commonly used libraries for Data Science\n",
    "- make take for common data science tools\n",
    "- execute arhithmatics"
   ]
  },
  {
   "cell_type": "markdown",
   "id": "5c7b6786-0dff-4cb8-b6e6-410ebb8f8c61",
   "metadata": {},
   "source": [
    "Some of the popular languages that Data Scientists use are:\n",
    "\n",
    "    1. Python\n",
    "    2. SQL\n",
    "    3. R\n",
    "    4. VBA\n",
    "    5. Julia\n",
    "    6. JavaScript\n",
    "    7. Java\n",
    "    8. Scala\n",
    "    9. SAS\n",
    "    10. MATLAB\n",
    "    11. C/C++\n",
    "    12. Swift"
   ]
  },
  {
   "cell_type": "markdown",
   "id": "4a99283b-fd8d-4e9e-9d0c-0bf470a4899a",
   "metadata": {},
   "source": [
    "Some of the commonly used libraries used by Data Scientists include: \n",
    "\n",
    "    1. TensorFlow\n",
    "    2. NumPy\n",
    "    3. SciPy\n",
    "    4. Pandas\n",
    "    5. Matplotlib\n",
    "    6. Keras\n",
    "    7. SciKit-Learn\n",
    "    8. BeutifulSoup\n",
    "    9. LightGBM\n",
    "    10. PyTorch\n",
    "    11. ELI5\n",
    "    12. Theano\n",
    "    13. Ramp\n",
    "    14. NuPIC\n",
    "    15. Pipenv\n",
    "    16. Bob\n",
    "    17. PyBrain\n",
    "    18. Caffe2\n",
    "    19. Scrapy\n",
    "    20. Chainer"
   ]
  },
  {
   "cell_type": "markdown",
   "id": "3beb9460-5fb2-4ae3-8c31-a5900d862ff5",
   "metadata": {},
   "source": [
    "|Data Science Tools|\n",
    "|-------------------|\n",
    "|Apache Spark|\n",
    "|TensorFlow|\n",
    "|RStudio|\n",
    " |RapidMiner|"
   ]
  },
  {
   "cell_type": "markdown",
   "id": "56dac46e-9bdf-406c-9cf6-8d45649b5990",
   "metadata": {},
   "source": [
    "### Below are a few examples of evaluating arithmetic expressions in Python."
   ]
  },
  {
   "cell_type": "code",
   "execution_count": 3,
   "id": "f7f929a2-c9a3-4000-86e8-5f803f858d02",
   "metadata": {},
   "outputs": [
    {
     "data": {
      "text/plain": [
       "17"
      ]
     },
     "execution_count": 3,
     "metadata": {},
     "output_type": "execute_result"
    }
   ],
   "source": [
    "(3*4)+5\n",
    "#This a simple arithmetic expression to multiply then add integers"
   ]
  },
  {
   "cell_type": "code",
   "execution_count": 4,
   "id": "c8b7e1a9-1af1-4c31-8aff-a10a775f6dfd",
   "metadata": {},
   "outputs": [],
   "source": [
    "minutes = 200\n",
    "hours = minutes / 60\n",
    "#This will convert 200 minutes to hours by diving by 60"
   ]
  },
  {
   "cell_type": "code",
   "execution_count": 5,
   "id": "8d8cbd60-a109-4744-943d-74f17a126898",
   "metadata": {},
   "outputs": [
    {
     "name": "stdout",
     "output_type": "stream",
     "text": [
      "3.3333333333333335\n"
     ]
    }
   ],
   "source": [
    "print(hours)"
   ]
  },
  {
   "cell_type": "markdown",
   "id": "d63cf956-9f1a-419e-ad23-a5770b5cdaa2",
   "metadata": {},
   "source": [
    "## Author\n",
    "Om Lata Bhagat"
   ]
  },
  {
   "cell_type": "code",
   "execution_count": null,
   "id": "e15332ad-f793-4e7a-9a18-7c8d68288d07",
   "metadata": {},
   "outputs": [],
   "source": []
  }
 ],
 "metadata": {
  "kernelspec": {
   "display_name": "Python 3 (ipykernel)",
   "language": "python",
   "name": "python3"
  },
  "language_info": {
   "codemirror_mode": {
    "name": "ipython",
    "version": 3
   },
   "file_extension": ".py",
   "mimetype": "text/x-python",
   "name": "python",
   "nbconvert_exporter": "python",
   "pygments_lexer": "ipython3",
   "version": "3.11.9"
  }
 },
 "nbformat": 4,
 "nbformat_minor": 5
}
